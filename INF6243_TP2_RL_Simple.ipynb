{
  "cells": [
    {
      "cell_type": "markdown",
      "metadata": {
        "id": "view-in-github",
        "colab_type": "text"
      },
      "source": [
        "<a href=\"https://colab.research.google.com/github/AdamaTG/Atelier-Regression-Lineaire/blob/main/INF6243_TP2_RL_Simple.ipynb\" target=\"_parent\"><img src=\"https://colab.research.google.com/assets/colab-badge.svg\" alt=\"Open In Colab\"/></a>"
      ]
    },
    {
      "cell_type": "markdown",
      "source": [
        "### Régression linéaire simple\n",
        "***\n",
        "\n",
        "* Le modèle prend la forme d'une droite $$ Y = \\beta_0 + \\beta_1 X $$\n",
        "\n",
        "where:\n",
        "\n",
        "$X$: variable prédictive\n",
        "\n",
        "$Y$: variable dépendante\n",
        "\n",
        "$\\beta_0$: l'ordonnée à l'origine \n",
        "\n",
        "$\\beta_1$: le coefficient de pente\n",
        "\n",
        "\n"
      ],
      "metadata": {
        "id": "okB3RkWv0VHv"
      },
      "id": "okB3RkWv0VHv"
    },
    {
      "cell_type": "markdown",
      "source": [
        "## **Import libraries**"
      ],
      "metadata": {
        "id": "RW1a5n5rUBJ7"
      },
      "id": "RW1a5n5rUBJ7"
    },
    {
      "cell_type": "code",
      "execution_count": 1,
      "id": "e529589b",
      "metadata": {
        "id": "e529589b"
      },
      "outputs": [],
      "source": [
        "\n",
        "## Basic libs\n",
        "import pandas as pd\n",
        "import numpy as np\n",
        "import seaborn as sns\n",
        "import itertools\n",
        "\n",
        "## Building Model\n",
        "from sklearn import linear_model\n",
        "from sklearn.metrics import mean_squared_error, r2_score\n",
        "\n",
        "## Data Visualization\n",
        "import matplotlib.pyplot as plt\n",
        "%matplotlib inline\n",
        "plt.style.use('ggplot')"
      ]
    },
    {
      "cell_type": "code",
      "source": [
        "from google.colab import drive\n",
        "drive.mount('/content/drive')"
      ],
      "metadata": {
        "colab": {
          "base_uri": "https://localhost:8080/"
        },
        "id": "OzN3L65TaqPt",
        "outputId": "ee0167b1-a5b8-4788-8913-53855123506f"
      },
      "id": "OzN3L65TaqPt",
      "execution_count": null,
      "outputs": [
        {
          "output_type": "stream",
          "name": "stdout",
          "text": [
            "Mounted at /content/drive\n"
          ]
        }
      ]
    },
    {
      "cell_type": "markdown",
      "source": [
        "## **Importing the dataset**"
      ],
      "metadata": {
        "id": "RZAQtEuPUKp-"
      },
      "id": "RZAQtEuPUKp-"
    },
    {
      "cell_type": "code",
      "execution_count": null,
      "id": "c439861e",
      "metadata": {
        "id": "c439861e"
      },
      "outputs": [],
      "source": [
        "datafiledir = \"/content/drive/MyDrive/TP-INF6243/concrete_data.csv\"\n",
        "\n",
        "dataset = pd.read_csv(datafiledir)\n"
      ]
    },
    {
      "cell_type": "code",
      "source": [
        "# Get the predictors and target variables (Dependent & Independent Variables)\n",
        "X = dataset[['cement']]   # dataset.iloc[:, :4].values\n",
        "y = dataset.iloc[:, -1].values\n"
      ],
      "metadata": {
        "id": "yojydmZjueEn"
      },
      "id": "yojydmZjueEn",
      "execution_count": null,
      "outputs": []
    },
    {
      "cell_type": "code",
      "source": [
        "print(X.shape)\n"
      ],
      "metadata": {
        "id": "xriTtTpXJRXl",
        "colab": {
          "base_uri": "https://localhost:8080/"
        },
        "outputId": "016b312e-51ce-47fa-c0dc-4a139236b1b3"
      },
      "id": "xriTtTpXJRXl",
      "execution_count": null,
      "outputs": [
        {
          "output_type": "stream",
          "name": "stdout",
          "text": [
            "(1030, 1)\n"
          ]
        }
      ]
    },
    {
      "cell_type": "markdown",
      "source": [
        "## **Splitting the dataset into the Training set and Test set**"
      ],
      "metadata": {
        "id": "EVWtGW7WUTvw"
      },
      "id": "EVWtGW7WUTvw"
    },
    {
      "cell_type": "code",
      "source": [
        ""
      ],
      "metadata": {
        "id": "rxh8iAy0DCSR"
      },
      "id": "rxh8iAy0DCSR",
      "execution_count": null,
      "outputs": []
    },
    {
      "cell_type": "code",
      "source": [
        "#base d'apprentissage et base de test\n",
        "#train: 70%, test: 30%\n",
        "from sklearn.model_selection import train_test_split\n",
        " \n",
        "X_train, X_test, y_train, y_test = train_test_split(X, y, test_size = 0.3, random_state=5)\n",
        "print(X_train.shape)\n",
        "print(y_train.shape)\n",
        "print(X_test.shape)\n",
        "print(y_test.shape)"
      ],
      "metadata": {
        "colab": {
          "base_uri": "https://localhost:8080/"
        },
        "id": "HNKL6EXMshEw",
        "outputId": "16b95dfe-5373-4e3a-ff31-a25abb1f920d"
      },
      "id": "HNKL6EXMshEw",
      "execution_count": null,
      "outputs": [
        {
          "output_type": "stream",
          "name": "stdout",
          "text": [
            "(721, 1)\n",
            "(721,)\n",
            "(309, 1)\n",
            "(309,)\n"
          ]
        }
      ]
    },
    {
      "cell_type": "markdown",
      "source": [
        "## **Training the Multiple Linear Regression model**"
      ],
      "metadata": {
        "id": "btsncbDfUaE4"
      },
      "id": "btsncbDfUaE4"
    },
    {
      "cell_type": "code",
      "source": [
        "#entrainement du modèle\n",
        "from sklearn.linear_model import LinearRegression\n",
        "from sklearn.metrics import mean_squared_error\n",
        "# create linear regression object \n",
        "modelLR = LinearRegression()\n",
        "# fit linear regression\n",
        "modelLR.fit(X_train, y_train);"
      ],
      "metadata": {
        "id": "sJmL6qFv0o7K"
      },
      "id": "sJmL6qFv0o7K",
      "execution_count": null,
      "outputs": []
    },
    {
      "cell_type": "markdown",
      "source": [
        "## **Evaluation of the model**"
      ],
      "metadata": {
        "id": "86Kp3zjeUimP"
      },
      "id": "86Kp3zjeUimP"
    },
    {
      "cell_type": "code",
      "source": [
        "# model evaluation for training set\n",
        "print('La performance du modèle sur la base de training')\n",
        "y_predtrain = modelLR.predict(X_train )\n",
        "mse_train = ((mean_squared_error(y_train, y_predtrain)))\n",
        "print(\"L'erreur sur le training est {}\\n\".format(mse_train))\n",
        "\n",
        "# model evaluation for testing set\n",
        "print('La performance du modèle sur la base de test')\n",
        "y_pred = modelLR.predict(X_test)\n",
        "mse_test = ((mean_squared_error(y_test, y_pred)))\n",
        "print(\"L'erreur sur le testing est {}\".format(mse_test))"
      ],
      "metadata": {
        "id": "zcYsV8UJZGjt",
        "colab": {
          "base_uri": "https://localhost:8080/"
        },
        "outputId": "28ddc242-6c25-48bc-adf2-62fe0f659ca9"
      },
      "id": "zcYsV8UJZGjt",
      "execution_count": null,
      "outputs": [
        {
          "output_type": "stream",
          "name": "stdout",
          "text": [
            "La performance du modèle sur la base de training\n",
            "L'erreur sur le training est 211.1066520468902\n",
            "\n",
            "La performance du modèle sur la base de test\n",
            "L'erreur sur le testing est 207.5403892503812\n"
          ]
        }
      ]
    },
    {
      "cell_type": "markdown",
      "source": [
        "### The coefficients"
      ],
      "metadata": {
        "id": "iQ6l_R4lyaFl"
      },
      "id": "iQ6l_R4lyaFl"
    },
    {
      "cell_type": "code",
      "source": [
        "# The coefficients\n",
        "print('B0:', modelLR.intercept_)\n",
        "print('B1:', float(modelLR.coef_))"
      ],
      "metadata": {
        "colab": {
          "base_uri": "https://localhost:8080/"
        },
        "id": "GlA2lgs5fT9b",
        "outputId": "da400153-1b7a-4dfa-ab88-1e6d2fcfd8e3"
      },
      "id": "GlA2lgs5fT9b",
      "execution_count": null,
      "outputs": [
        {
          "output_type": "stream",
          "name": "stdout",
          "text": [
            "B0: 11.816302949353613\n",
            "B1: 0.08443366899148236\n"
          ]
        }
      ]
    },
    {
      "cell_type": "code",
      "source": [
        "# initialize list of lists\n",
        "data = [['X0', modelLR.intercept_], [' '.join(map(str, X.columns)), float(modelLR.coef_)]]\n",
        " \n",
        "# Create the pandas DataFrame\n",
        "df = pd.DataFrame(data, index=[\"B0\", \"B1\"],columns = ['features', 'Coefficients'])\n",
        " \n",
        "# print dataframe.\n",
        "df"
      ],
      "metadata": {
        "colab": {
          "base_uri": "https://localhost:8080/",
          "height": 112
        },
        "id": "e-24elmboX6X",
        "outputId": "d142e5bb-3bf6-49ae-e511-e81c120c20df"
      },
      "id": "e-24elmboX6X",
      "execution_count": null,
      "outputs": [
        {
          "output_type": "execute_result",
          "data": {
            "text/html": [
              "\n",
              "  <div id=\"df-41eccf3d-a758-4965-81a6-942486b7be8f\">\n",
              "    <div class=\"colab-df-container\">\n",
              "      <div>\n",
              "<style scoped>\n",
              "    .dataframe tbody tr th:only-of-type {\n",
              "        vertical-align: middle;\n",
              "    }\n",
              "\n",
              "    .dataframe tbody tr th {\n",
              "        vertical-align: top;\n",
              "    }\n",
              "\n",
              "    .dataframe thead th {\n",
              "        text-align: right;\n",
              "    }\n",
              "</style>\n",
              "<table border=\"1\" class=\"dataframe\">\n",
              "  <thead>\n",
              "    <tr style=\"text-align: right;\">\n",
              "      <th></th>\n",
              "      <th>features</th>\n",
              "      <th>Coefficients</th>\n",
              "    </tr>\n",
              "  </thead>\n",
              "  <tbody>\n",
              "    <tr>\n",
              "      <th>B0</th>\n",
              "      <td>X0</td>\n",
              "      <td>11.816303</td>\n",
              "    </tr>\n",
              "    <tr>\n",
              "      <th>B1</th>\n",
              "      <td>cement</td>\n",
              "      <td>0.084434</td>\n",
              "    </tr>\n",
              "  </tbody>\n",
              "</table>\n",
              "</div>\n",
              "      <button class=\"colab-df-convert\" onclick=\"convertToInteractive('df-41eccf3d-a758-4965-81a6-942486b7be8f')\"\n",
              "              title=\"Convert this dataframe to an interactive table.\"\n",
              "              style=\"display:none;\">\n",
              "        \n",
              "  <svg xmlns=\"http://www.w3.org/2000/svg\" height=\"24px\"viewBox=\"0 0 24 24\"\n",
              "       width=\"24px\">\n",
              "    <path d=\"M0 0h24v24H0V0z\" fill=\"none\"/>\n",
              "    <path d=\"M18.56 5.44l.94 2.06.94-2.06 2.06-.94-2.06-.94-.94-2.06-.94 2.06-2.06.94zm-11 1L8.5 8.5l.94-2.06 2.06-.94-2.06-.94L8.5 2.5l-.94 2.06-2.06.94zm10 10l.94 2.06.94-2.06 2.06-.94-2.06-.94-.94-2.06-.94 2.06-2.06.94z\"/><path d=\"M17.41 7.96l-1.37-1.37c-.4-.4-.92-.59-1.43-.59-.52 0-1.04.2-1.43.59L10.3 9.45l-7.72 7.72c-.78.78-.78 2.05 0 2.83L4 21.41c.39.39.9.59 1.41.59.51 0 1.02-.2 1.41-.59l7.78-7.78 2.81-2.81c.8-.78.8-2.07 0-2.86zM5.41 20L4 18.59l7.72-7.72 1.47 1.35L5.41 20z\"/>\n",
              "  </svg>\n",
              "      </button>\n",
              "      \n",
              "  <style>\n",
              "    .colab-df-container {\n",
              "      display:flex;\n",
              "      flex-wrap:wrap;\n",
              "      gap: 12px;\n",
              "    }\n",
              "\n",
              "    .colab-df-convert {\n",
              "      background-color: #E8F0FE;\n",
              "      border: none;\n",
              "      border-radius: 50%;\n",
              "      cursor: pointer;\n",
              "      display: none;\n",
              "      fill: #1967D2;\n",
              "      height: 32px;\n",
              "      padding: 0 0 0 0;\n",
              "      width: 32px;\n",
              "    }\n",
              "\n",
              "    .colab-df-convert:hover {\n",
              "      background-color: #E2EBFA;\n",
              "      box-shadow: 0px 1px 2px rgba(60, 64, 67, 0.3), 0px 1px 3px 1px rgba(60, 64, 67, 0.15);\n",
              "      fill: #174EA6;\n",
              "    }\n",
              "\n",
              "    [theme=dark] .colab-df-convert {\n",
              "      background-color: #3B4455;\n",
              "      fill: #D2E3FC;\n",
              "    }\n",
              "\n",
              "    [theme=dark] .colab-df-convert:hover {\n",
              "      background-color: #434B5C;\n",
              "      box-shadow: 0px 1px 3px 1px rgba(0, 0, 0, 0.15);\n",
              "      filter: drop-shadow(0px 1px 2px rgba(0, 0, 0, 0.3));\n",
              "      fill: #FFFFFF;\n",
              "    }\n",
              "  </style>\n",
              "\n",
              "      <script>\n",
              "        const buttonEl =\n",
              "          document.querySelector('#df-41eccf3d-a758-4965-81a6-942486b7be8f button.colab-df-convert');\n",
              "        buttonEl.style.display =\n",
              "          google.colab.kernel.accessAllowed ? 'block' : 'none';\n",
              "\n",
              "        async function convertToInteractive(key) {\n",
              "          const element = document.querySelector('#df-41eccf3d-a758-4965-81a6-942486b7be8f');\n",
              "          const dataTable =\n",
              "            await google.colab.kernel.invokeFunction('convertToInteractive',\n",
              "                                                     [key], {});\n",
              "          if (!dataTable) return;\n",
              "\n",
              "          const docLinkHtml = 'Like what you see? Visit the ' +\n",
              "            '<a target=\"_blank\" href=https://colab.research.google.com/notebooks/data_table.ipynb>data table notebook</a>'\n",
              "            + ' to learn more about interactive tables.';\n",
              "          element.innerHTML = '';\n",
              "          dataTable['output_type'] = 'display_data';\n",
              "          await google.colab.output.renderOutput(dataTable, element);\n",
              "          const docLink = document.createElement('div');\n",
              "          docLink.innerHTML = docLinkHtml;\n",
              "          element.appendChild(docLink);\n",
              "        }\n",
              "      </script>\n",
              "    </div>\n",
              "  </div>\n",
              "  "
            ],
            "text/plain": [
              "   features  Coefficients\n",
              "B0       X0     11.816303\n",
              "B1   cement      0.084434"
            ]
          },
          "metadata": {},
          "execution_count": 15
        }
      ]
    },
    {
      "cell_type": "markdown",
      "source": [
        "# **Visualisation of the results**"
      ],
      "metadata": {
        "id": "vmZKA8MIypms"
      },
      "id": "vmZKA8MIypms"
    },
    {
      "cell_type": "code",
      "source": [
        "# Visualising the Train set results\n",
        "plt.scatter(X_train, y_train, color = '#a2cffe')\n",
        "plt.plot(X_train, modelLR.predict(X_train), color = 'r')\n",
        "plt.title('CC_Strength vs Cement  (Training set)')\n",
        "plt.xlabel('Cement')\n",
        "plt.ylabel('CC_Strength');\n"
      ],
      "metadata": {
        "id": "lyZE92ZzY965",
        "colab": {
          "base_uri": "https://localhost:8080/",
          "height": 299
        },
        "outputId": "3c9b35ce-cd6e-4951-b5ec-a7f5134822b3"
      },
      "id": "lyZE92ZzY965",
      "execution_count": null,
      "outputs": [
        {
          "output_type": "display_data",
          "data": {
            "image/png": "[encoded data removed]",
            "text/plain": [
              "<Figure size 432x288 with 1 Axes>"
            ]
          },
          "metadata": {
            "needs_background": "light"
          }
        }
      ]
    },
    {
      "cell_type": "code",
      "source": [
        "# Visualising the Test set results\n",
        "plt.scatter(X_test, y_test, color = '#a2cffe')\n",
        "plt.plot(X_train, modelLR.predict(X_train), color = 'r')\n",
        "plt.title('CC_Strength vs Cement  (Test set)')\n",
        "plt.xlabel('Cement')\n",
        "plt.ylabel('CC_Strength');"
      ],
      "metadata": {
        "id": "kRAvy4pbZO8J",
        "colab": {
          "base_uri": "https://localhost:8080/",
          "height": 299
        },
        "outputId": "bdc767a7-1109-49e0-de88-af01d5c34ac2"
      },
      "id": "kRAvy4pbZO8J",
      "execution_count": null,
      "outputs": [
        {
          "output_type": "display_data",
          "data": {
            "image/png": "[encoded data removed]",
            "text/plain": [
              "<Figure size 432x288 with 1 Axes>"
            ]
          },
          "metadata": {
            "needs_background": "light"
          }
        }
      ]
    }
  ],
  "metadata": {
    "kernelspec": {
      "display_name": "Python 3 (ipykernel)",
      "language": "python",
      "name": "python3"
    },
    "language_info": {
      "codemirror_mode": {
        "name": "ipython",
        "version": 3
      },
      "file_extension": ".py",
      "mimetype": "text/x-python",
      "name": "python",
      "nbconvert_exporter": "python",
      "pygments_lexer": "ipython3",
      "version": "3.8.8"
    },
    "colab": {
      "name": "INF6243_TP2_RL_Simple.ipynb",
      "provenance": [],
      "collapsed_sections": [],
      "toc_visible": true,
      "include_colab_link": true
    }
  },
  "nbformat": 4,
  "nbformat_minor": 5
}